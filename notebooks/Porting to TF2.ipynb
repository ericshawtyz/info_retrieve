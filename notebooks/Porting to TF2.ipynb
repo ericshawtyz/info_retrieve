{
 "cells": [
  {
   "cell_type": "markdown",
   "metadata": {},
   "source": [
    "## Porting GoldenRetriever to TF2"
   ]
  },
  {
   "cell_type": "markdown",
   "metadata": {},
   "source": [
    "### 1. USE-QA in TF2\n",
    "\n",
    "Official code sample for TF2  \n",
    "https://tfhub.dev/google/universal-sentence-encoder-multilingual-qa/2"
   ]
  },
  {
   "cell_type": "code",
   "execution_count": 1,
   "metadata": {},
   "outputs": [
    {
     "data": {
      "text/plain": [
       "array([[0.40884   , 0.08877401]], dtype=float32)"
      ]
     },
     "execution_count": 1,
     "metadata": {},
     "output_type": "execute_result"
    }
   ],
   "source": [
    "# !pip install tensorflow-addons\n",
    "# !pip install tensorflow_text\n",
    "# !pip install --upgrade tensorflow-hub\n",
    "\n",
    "import tensorflow as tf\n",
    "import tensorflow_hub as hub\n",
    "from tensorflow import keras\n",
    "import numpy as np\n",
    "import tensorflow_text\n",
    "\n",
    "questions = [\"What is your age?\"]\n",
    "responses = [\"I am 20 years old.\", \"good morning\"]\n",
    "response_contexts = [\"I will be 21 next year.\", \"great day.\"]\n",
    "\n",
    "module = hub.load('https://tfhub.dev/google/universal-sentence-encoder-multilingual-qa/2')\n",
    "\n",
    "question_embeddings = module.signatures['question_encoder'](\n",
    "            tf.constant(questions))\n",
    "response_embeddings = module.signatures['response_encoder'](\n",
    "        input=tf.constant(responses),\n",
    "        context=tf.constant(response_contexts))\n",
    "\n",
    "np.inner(question_embeddings['outputs'], response_embeddings['outputs'])"
   ]
  },
  {
   "cell_type": "markdown",
   "metadata": {},
   "source": [
    "### 2. Inference in TF2 model\n",
    "Noticeably, it runs faster than previously."
   ]
  },
  {
   "cell_type": "code",
   "execution_count": 4,
   "metadata": {},
   "outputs": [
    {
     "name": "stdout",
     "output_type": "stream",
     "text": [
      "timing init\n",
      "model initiated!\n",
      "CPU times: user 14.2 s, sys: 867 ms, total: 15 s\n",
      "Wall time: 14.9 s\n",
      "\n",
      "timing ques encoding\n",
      "CPU times: user 2.09 s, sys: 38.7 ms, total: 2.13 s\n",
      "Wall time: 2.08 s\n",
      "\n",
      "timing response encoding\n",
      "CPU times: user 2.34 s, sys: 15.2 ms, total: 2.36 s\n",
      "Wall time: 2.31 s\n",
      "\n"
     ]
    }
   ],
   "source": [
    "import sys\n",
    "sys.path.append('..')\n",
    "\n",
    "from src.model import GoldenRetriever\n",
    "print(\"timing init\")\n",
    "%time gr = GoldenRetriever(**{'learning_rate':0.001, 'beta_1':0.9, 'beta_2':0.999})\n",
    "print(\"\")\n",
    "\n",
    "\n",
    "# encode 1 question\n",
    "print(\"timing ques encoding\")\n",
    "%time encoded_ques = gr.predict('How old are you?', type='query')\n",
    "print(\"\")\n",
    "\n",
    "# encode multiple questions\n",
    "encoded_ques = gr.predict(['How old are you?', 'What time is it?'], \n",
    "                          type='query')\n",
    "\n",
    "# one response w context\n",
    "print(\"timing response encoding\")\n",
    "%time encoded_res = gr.predict(\"I am 20 years old.\", context=\"I will be 21 next year.\", type='response')\n",
    "print(\"\")\n",
    "\n",
    "# multiple responses w/0 context\n",
    "encoded_res = gr.predict([\"I am 20 years old.\", \"I love apple cider\"], type='response')\n",
    "\n"
   ]
  },
  {
   "cell_type": "markdown",
   "metadata": {},
   "source": [
    "### 3. Loading knowledge bases"
   ]
  },
  {
   "cell_type": "code",
   "execution_count": 5,
   "metadata": {},
   "outputs": [
    {
     "name": "stdout",
     "output_type": "stream",
     "text": [
      "knowledge base lock and loaded!\n",
      "knowledge base lock and loaded!\n",
      "knowledge base lock and loaded!\n",
      "knowledge base (csv) lock and loaded!\n"
     ]
    },
    {
     "data": {
      "text/plain": [
       "(['We are looking for candidates who possess a keen interest in the area of machine learning and data science. We believe that candidates can come from any area of specialisation, and our requirements are as follow:\\ni)   Singaporean with a polytechnic diploma or university degree,\\nii) Proficient in Python or R and iii) Is able to implement Machine Learning Algorithms or have a background in Mathematics / Statistics / Computer Science. \\nBeyond that, demonstrated statistical fundamentals and programming ability will be helpful for the technical tests, but a keen learning attitude will be the most important to carry you through the programme. \\n',\n",
       "  'Candidates can expect to be equipped in some or all of the following skills: data modelling/tuning, data engineering, data product-related software engineering, cloud applications. It ranges between individuals, but candidates can be adequately prepared in fields of data science, engineering and consultancy\\n'],\n",
       " array([[0.3085595 ],\n",
       "        [0.28774393]], dtype=float32))"
      ]
     },
     "execution_count": 5,
     "metadata": {},
     "output_type": "execute_result"
    }
   ],
   "source": [
    "# load knowledge bases\n",
    "gr.load_kb(path_to_kb='../data/aiap.txt', is_faq=True, kb_name='aiap')\n",
    "gr.load_kb(path_to_kb='../data/resale_tnc.txt', kb_name='resale_tnc')\n",
    "gr.load_kb(path_to_kb='../data/fund_guide_tnc_full.txt', kb_name='nrf')\n",
    "gr.load_csv_kb(path_to_kb='../data/pdpa.csv', cutoff=196, kb_name='pdpa')\n",
    "\n",
    "# make query\n",
    "gr.make_query('What kind of candidates are you looking for?', top_k=2, kb_name='aiap')\n"
   ]
  },
  {
   "cell_type": "markdown",
   "metadata": {},
   "source": [
    "### 4. Testing finetuning"
   ]
  },
  {
   "cell_type": "code",
   "execution_count": 6,
   "metadata": {
    "scrolled": false
   },
   "outputs": [
    {
     "name": "stdout",
     "output_type": "stream",
     "text": [
      "BEFORE FINETUNING\n",
      "[<tf.Variable 'QA/Final/Response_tuning/ResidualHidden_1/AdjustDepth/projection/kernel:0' shape=(1024, 512) dtype=float32, numpy=\n",
      "array([[ 1.7117115e+00, -8.8389181e-03, -8.8152960e-02, ...,\n",
      "         3.4359641e-02, -5.6950748e-02,  3.1913319e-03],\n",
      "       [-1.7560545e-02,  1.5315282e+00,  2.8173655e-02, ...,\n",
      "         2.7225253e-03,  1.5698759e-02, -8.1266584e-03],\n",
      "       [-4.7530245e-02,  4.8905790e-02,  1.6913337e+00, ...,\n",
      "        -3.7007492e-02, -3.5331409e-02, -9.1013429e-04],\n",
      "       ...,\n",
      "       [-4.3463507e-03,  1.1113880e-02,  1.0710205e-02, ...,\n",
      "         5.0418127e-02,  3.3716073e-03, -2.2927163e-02],\n",
      "       [ 2.6251100e-02, -5.4154057e-02, -1.5461433e-02, ...,\n",
      "        -8.8774767e-03, -2.9500483e-02,  4.1329965e-02],\n",
      "       [ 1.5746625e-02, -2.4634020e-02, -2.4179602e-02, ...,\n",
      "         1.6309937e-02,  1.0962348e-02, -3.4185573e-02]], dtype=float32)>]\n",
      "\n",
      "CPU times: user 29.3 s, sys: 316 ms, total: 29.6 s\n",
      "Wall time: 29.4 s\n",
      "AFTER FINETUNING\n",
      "[<tf.Variable 'QA/Final/Response_tuning/ResidualHidden_1/AdjustDepth/projection/kernel:0' shape=(1024, 512) dtype=float32, numpy=\n",
      "array([[ 1.7126808e+00, -9.4091808e-03, -8.9116685e-02, ...,\n",
      "         3.5325810e-02, -5.5978131e-02,  2.5482415e-03],\n",
      "       [-1.6638305e-02,  1.5305541e+00,  2.7213395e-02, ...,\n",
      "         3.6914686e-03,  1.4721945e-02, -8.9991027e-03],\n",
      "       [-4.8525833e-02,  4.9893256e-02,  1.6923290e+00, ...,\n",
      "        -3.8003378e-02, -3.6324788e-02,  5.0438859e-05],\n",
      "       ...,\n",
      "       [-3.3639586e-03,  1.0171405e-02,  9.7289784e-03, ...,\n",
      "         5.1401224e-02,  4.3482143e-03, -2.3773579e-02],\n",
      "       [ 2.7230211e-02, -5.5103160e-02, -1.6440054e-02, ...,\n",
      "        -7.8965034e-03, -2.8535226e-02,  4.0485241e-02],\n",
      "       [ 1.6693756e-02, -2.3678731e-02, -2.5048146e-02, ...,\n",
      "         1.7109701e-02,  1.1943885e-02, -3.3459641e-02]], dtype=float32)>]\n",
      "BEFORE FINETUNING\n",
      "[<tf.Variable 'QA/Final/Response_tuning/ResidualHidden_1/AdjustDepth/projection/kernel:0' shape=(1024, 512) dtype=float32, numpy=\n",
      "array([[ 1.7126808e+00, -9.4091808e-03, -8.9116685e-02, ...,\n",
      "         3.5325810e-02, -5.5978131e-02,  2.5482415e-03],\n",
      "       [-1.6638305e-02,  1.5305541e+00,  2.7213395e-02, ...,\n",
      "         3.6914686e-03,  1.4721945e-02, -8.9991027e-03],\n",
      "       [-4.8525833e-02,  4.9893256e-02,  1.6923290e+00, ...,\n",
      "        -3.8003378e-02, -3.6324788e-02,  5.0438859e-05],\n",
      "       ...,\n",
      "       [-3.3639586e-03,  1.0171405e-02,  9.7289784e-03, ...,\n",
      "         5.1401224e-02,  4.3482143e-03, -2.3773579e-02],\n",
      "       [ 2.7230211e-02, -5.5103160e-02, -1.6440054e-02, ...,\n",
      "        -7.8965034e-03, -2.8535226e-02,  4.0485241e-02],\n",
      "       [ 1.6693756e-02, -2.3678731e-02, -2.5048146e-02, ...,\n",
      "         1.7109701e-02,  1.1943885e-02, -3.3459641e-02]], dtype=float32)>]\n",
      "\n",
      "CPU times: user 674 ms, sys: 31.3 ms, total: 705 ms\n",
      "Wall time: 470 ms\n",
      "AFTER FINETUNING\n",
      "[<tf.Variable 'QA/Final/Response_tuning/ResidualHidden_1/AdjustDepth/projection/kernel:0' shape=(1024, 512) dtype=float32, numpy=\n",
      "array([[ 1.71280837e+00, -1.01472000e-02, -8.91779140e-02, ...,\n",
      "         3.50690261e-02, -5.59460893e-02,  1.77898409e-03],\n",
      "       [-1.71948094e-02,  1.53076959e+00,  2.69938149e-02, ...,\n",
      "         4.42508655e-03,  1.48167694e-02, -9.44464467e-03],\n",
      "       [-4.84593883e-02,  4.98624071e-02,  1.69242334e+00, ...,\n",
      "        -3.78834754e-02, -3.64381969e-02,  1.00331707e-03],\n",
      "       ...,\n",
      "       [-3.39913485e-03,  1.01510212e-02,  9.64091439e-03, ...,\n",
      "         5.12563176e-02,  4.43744659e-03, -2.46481374e-02],\n",
      "       [ 2.71393843e-02, -5.50430939e-02, -1.65373981e-02, ...,\n",
      "        -7.99241383e-03, -2.83990167e-02,  3.96411158e-02],\n",
      "       [ 1.76245254e-02, -2.39511561e-02, -2.48762816e-02, ...,\n",
      "         1.64585728e-02,  1.19120665e-02, -3.36041674e-02]], dtype=float32)>]\n",
      "BEFORE FINETUNING\n",
      "[<tf.Variable 'QA/Final/Response_tuning/ResidualHidden_1/AdjustDepth/projection/kernel:0' shape=(1024, 512) dtype=float32, numpy=\n",
      "array([[ 1.71280837e+00, -1.01472000e-02, -8.91779140e-02, ...,\n",
      "         3.50690261e-02, -5.59460893e-02,  1.77898409e-03],\n",
      "       [-1.71948094e-02,  1.53076959e+00,  2.69938149e-02, ...,\n",
      "         4.42508655e-03,  1.48167694e-02, -9.44464467e-03],\n",
      "       [-4.84593883e-02,  4.98624071e-02,  1.69242334e+00, ...,\n",
      "        -3.78834754e-02, -3.64381969e-02,  1.00331707e-03],\n",
      "       ...,\n",
      "       [-3.39913485e-03,  1.01510212e-02,  9.64091439e-03, ...,\n",
      "         5.12563176e-02,  4.43744659e-03, -2.46481374e-02],\n",
      "       [ 2.71393843e-02, -5.50430939e-02, -1.65373981e-02, ...,\n",
      "        -7.99241383e-03, -2.83990167e-02,  3.96411158e-02],\n",
      "       [ 1.76245254e-02, -2.39511561e-02, -2.48762816e-02, ...,\n",
      "         1.64585728e-02,  1.19120665e-02, -3.36041674e-02]], dtype=float32)>]\n",
      "\n",
      "CPU times: user 637 ms, sys: 68.3 ms, total: 706 ms\n",
      "Wall time: 337 ms\n",
      "AFTER FINETUNING\n",
      "[<tf.Variable 'QA/Final/Response_tuning/ResidualHidden_1/AdjustDepth/projection/kernel:0' shape=(1024, 512) dtype=float32, numpy=\n",
      "array([[ 1.71289098e+00, -1.08061703e-02, -8.87132734e-02, ...,\n",
      "         3.44153158e-02, -5.53597473e-02,  2.27924995e-03],\n",
      "       [-1.66187156e-02,  1.53051031e+00,  2.63497084e-02, ...,\n",
      "         5.09608630e-03,  1.54568581e-02, -1.00987218e-02],\n",
      "       [-4.80633341e-02,  5.02077378e-02,  1.69191682e+00, ...,\n",
      "        -3.73559222e-02, -3.62518020e-02,  6.30886992e-04],\n",
      "       ...,\n",
      "       [-3.94433038e-03,  9.54685081e-03,  1.02396505e-02, ...,\n",
      "         5.06218635e-02,  4.25784197e-03, -2.41190176e-02],\n",
      "       [ 2.76053064e-02, -5.45818210e-02, -1.71676688e-02, ...,\n",
      "        -7.45090190e-03, -2.78338902e-02,  3.89053486e-02],\n",
      "       [ 1.77049283e-02, -2.38125902e-02, -2.42442414e-02, ...,\n",
      "         1.58281103e-02,  1.15879765e-02, -3.34909447e-02]], dtype=float32)>]\n"
     ]
    }
   ],
   "source": [
    "\"\"\"\n",
    "1. Cosine loss\n",
    "\"\"\"\n",
    "print(\"BEFORE FINETUNING\")\n",
    "print(gr.var_finetune)\n",
    "print(\"\")\n",
    "\n",
    "questions = [\"What is your age?\"]\n",
    "responses = [\"I am 20 years old.\", \"good morning\"]\n",
    "response_contexts = [\"I will be 21 next year.\", \"great day.\"]\n",
    "%time gr.finetune(questions, responses, response_contexts, label=[1,0], loss='cosine')\n",
    "\n",
    "print(\"AFTER FINETUNING\")\n",
    "print(gr.var_finetune)\n",
    "\n",
    "\n",
    "\"\"\"\n",
    "2. Contrastive loss\n",
    "\"\"\"\n",
    "print(\"BEFORE FINETUNING\")\n",
    "print(gr.var_finetune)\n",
    "print(\"\")\n",
    "\n",
    "questions = [\"What is your age?\"]\n",
    "responses = [\"I am 20 years old.\", \"good morning\"]\n",
    "response_contexts = [\"I will be 21 next year.\", \"great day.\"]\n",
    "%time gr.finetune(questions, responses, response_contexts, label=[1,0], loss='contrastive')\n",
    "\n",
    "print(\"AFTER FINETUNING\")\n",
    "print(gr.var_finetune)\n",
    "\n",
    "\n",
    "\"\"\"\n",
    "3. Triplet loss\n",
    "\"\"\"\n",
    "print(\"BEFORE FINETUNING\")\n",
    "print(gr.var_finetune)\n",
    "print(\"\")\n",
    "\n",
    "questions = [\"What is your age?\"]\n",
    "responses = [\"The top section of the spine is damaged.\"]\n",
    "response_contexts = [\"Call the nurse.\"]\n",
    "%time gr.finetune(questions, responses, response_contexts, neg_answer = [\"I will be 21 years old.\"], neg_answer_context = [\"Time is running out for the elderly and the young.\"], loss='triplet')\n",
    "\n",
    "print(\"AFTER FINETUNING\")\n",
    "print(gr.var_finetune)\n"
   ]
  },
  {
   "cell_type": "markdown",
   "metadata": {},
   "source": [
    "The last few values in the array has changed, indicating that there is successful tuning."
   ]
  },
  {
   "cell_type": "markdown",
   "metadata": {},
   "source": [
    "### 5. Testing Exporting and Restoring model"
   ]
  },
  {
   "cell_type": "code",
   "execution_count": 2,
   "metadata": {},
   "outputs": [
    {
     "name": "stdout",
     "output_type": "stream",
     "text": [
      "timing init\n",
      "model initiated!\n",
      "CPU times: user 14 s, sys: 914 ms, total: 14.9 s\n",
      "Wall time: 14.9 s\n",
      "\n",
      "WARNING:tensorflow:From /home/vinitrinh/anaconda3/envs/qanet/lib/python3.6/site-packages/tensorflow_core/python/ops/resource_variable_ops.py:1781: calling BaseResourceVariable.__init__ (from tensorflow.python.ops.resource_variable_ops) with constraint is deprecated and will be removed in a future version.\n",
      "Instructions for updating:\n",
      "If using Keras pass *_constraint arguments to layers.\n"
     ]
    },
    {
     "name": "stderr",
     "output_type": "stream",
     "text": [
      "WARNING:tensorflow:From /home/vinitrinh/anaconda3/envs/qanet/lib/python3.6/site-packages/tensorflow_core/python/ops/resource_variable_ops.py:1781: calling BaseResourceVariable.__init__ (from tensorflow.python.ops.resource_variable_ops) with constraint is deprecated and will be removed in a future version.\n",
      "Instructions for updating:\n",
      "If using Keras pass *_constraint arguments to layers.\n"
     ]
    },
    {
     "name": "stdout",
     "output_type": "stream",
     "text": [
      "INFO:tensorflow:Assets written to: fine_tune/assets\n"
     ]
    },
    {
     "name": "stderr",
     "output_type": "stream",
     "text": [
      "INFO:tensorflow:Assets written to: fine_tune/assets\n"
     ]
    },
    {
     "name": "stdout",
     "output_type": "stream",
     "text": [
      "AFTER EXPORTING AND RESTORING\n",
      "[<tf.Variable 'QA/Final/Response_tuning/ResidualHidden_1/AdjustDepth/projection/kernel:0' shape=(1024, 512) dtype=float32, numpy=\n",
      "array([[ 1.7117115e+00, -8.8389181e-03, -8.8152960e-02, ...,\n",
      "         3.4359641e-02, -5.6950748e-02,  3.1913319e-03],\n",
      "       [-1.7560545e-02,  1.5315282e+00,  2.8173655e-02, ...,\n",
      "         2.7225253e-03,  1.5698759e-02, -8.1266584e-03],\n",
      "       [-4.7530245e-02,  4.8905790e-02,  1.6913337e+00, ...,\n",
      "        -3.7007492e-02, -3.5331409e-02, -9.1013429e-04],\n",
      "       ...,\n",
      "       [-4.3463507e-03,  1.1113880e-02,  1.0710205e-02, ...,\n",
      "         5.0418127e-02,  3.3716073e-03, -2.2927163e-02],\n",
      "       [ 2.6251100e-02, -5.4154057e-02, -1.5461433e-02, ...,\n",
      "        -8.8774767e-03, -2.9500483e-02,  4.1329965e-02],\n",
      "       [ 1.5746625e-02, -2.4634020e-02, -2.4179602e-02, ...,\n",
      "         1.6309937e-02,  1.0962348e-02, -3.4185573e-02]], dtype=float32)>]\n"
     ]
    }
   ],
   "source": [
    "import sys\n",
    "sys.path.append('..')\n",
    "\n",
    "from src.model import GoldenRetriever\n",
    "print(\"timing init\")\n",
    "%time gr = GoldenRetriever(**{'learning_rate':0.001, 'beta_1':0.9, 'beta_2':0.999})\n",
    "print(\"\")\n",
    "\n",
    "\n",
    "gr.export(\"fine_tune\")\n",
    "gr.restore(\"fine_tune\")\n",
    "\n",
    "print(\"AFTER EXPORTING AND RESTORING\")\n",
    "print(gr.var_finetune)"
   ]
  },
  {
   "cell_type": "markdown",
   "metadata": {},
   "source": [
    "The loaded weights are the same post-finetuning weights, suggesting that the exporting and restoring worked fine."
   ]
  },
  {
   "cell_type": "markdown",
   "metadata": {},
   "source": [
    "### 6. Testing predicting after restoring weights"
   ]
  },
  {
   "cell_type": "code",
   "execution_count": 2,
   "metadata": {},
   "outputs": [
    {
     "name": "stdout",
     "output_type": "stream",
     "text": [
      "timing ques encoding\n",
      "CPU times: user 2.39 s, sys: 69.8 ms, total: 2.46 s\n",
      "Wall time: 2.54 s\n",
      "\n",
      "timing response encoding\n",
      "CPU times: user 2.51 s, sys: 7.38 ms, total: 2.52 s\n",
      "Wall time: 2.48 s\n",
      "\n"
     ]
    }
   ],
   "source": [
    "# encode 1 question\n",
    "print(\"timing ques encoding\")\n",
    "%time encoded_ques = gr.predict('How old are you?', type='query')\n",
    "print(\"\")\n",
    "\n",
    "# encode multiple questions\n",
    "encoded_ques = gr.predict(['How old are you?', 'What time is it?'], \n",
    "                          type='query')\n",
    "\n",
    "# one response w context\n",
    "print(\"timing response encoding\")\n",
    "%time encoded_res = gr.predict(\"I am 20 years old.\", context=\"I will be 21 next year.\", type='response')\n",
    "print(\"\")\n",
    "\n",
    "# multiple responses w/0 context\n",
    "encoded_res = gr.predict([\"I am 20 years old.\", \"I love apple cider\"], type='response')\n",
    "\n"
   ]
  },
  {
   "cell_type": "markdown",
   "metadata": {},
   "source": [
    "### 7. Testing finetuning after restoring"
   ]
  },
  {
   "cell_type": "code",
   "execution_count": 1,
   "metadata": {
    "scrolled": false
   },
   "outputs": [
    {
     "name": "stdout",
     "output_type": "stream",
     "text": [
      "timing init\n",
      "model initiated!\n",
      "CPU times: user 14.2 s, sys: 1.03 s, total: 15.2 s\n",
      "Wall time: 15.2 s\n",
      "\n",
      "WARNING:tensorflow:From /home/vinitrinh/anaconda3/envs/qanet/lib/python3.6/site-packages/tensorflow_core/python/ops/resource_variable_ops.py:1781: calling BaseResourceVariable.__init__ (from tensorflow.python.ops.resource_variable_ops) with constraint is deprecated and will be removed in a future version.\n",
      "Instructions for updating:\n",
      "If using Keras pass *_constraint arguments to layers.\n"
     ]
    },
    {
     "name": "stderr",
     "output_type": "stream",
     "text": [
      "WARNING:tensorflow:From /home/vinitrinh/anaconda3/envs/qanet/lib/python3.6/site-packages/tensorflow_core/python/ops/resource_variable_ops.py:1781: calling BaseResourceVariable.__init__ (from tensorflow.python.ops.resource_variable_ops) with constraint is deprecated and will be removed in a future version.\n",
      "Instructions for updating:\n",
      "If using Keras pass *_constraint arguments to layers.\n"
     ]
    },
    {
     "name": "stdout",
     "output_type": "stream",
     "text": [
      "INFO:tensorflow:Assets written to: fine_tune/assets\n"
     ]
    },
    {
     "name": "stderr",
     "output_type": "stream",
     "text": [
      "INFO:tensorflow:Assets written to: fine_tune/assets\n"
     ]
    },
    {
     "name": "stdout",
     "output_type": "stream",
     "text": [
      "model initiated!\n",
      "BEFORE FINETUNING\n",
      "[<tf.Variable 'QA/Final/Response_tuning/ResidualHidden_1/AdjustDepth/projection/kernel:0' shape=(1024, 512) dtype=float32, numpy=\n",
      "array([[ 1.7117115e+00, -8.8389181e-03, -8.8152960e-02, ...,\n",
      "         3.4359641e-02, -5.6950748e-02,  3.1913319e-03],\n",
      "       [-1.7560545e-02,  1.5315282e+00,  2.8173655e-02, ...,\n",
      "         2.7225253e-03,  1.5698759e-02, -8.1266584e-03],\n",
      "       [-4.7530245e-02,  4.8905790e-02,  1.6913337e+00, ...,\n",
      "        -3.7007492e-02, -3.5331409e-02, -9.1013429e-04],\n",
      "       ...,\n",
      "       [-4.3463507e-03,  1.1113880e-02,  1.0710205e-02, ...,\n",
      "         5.0418127e-02,  3.3716073e-03, -2.2927163e-02],\n",
      "       [ 2.6251100e-02, -5.4154057e-02, -1.5461433e-02, ...,\n",
      "        -8.8774767e-03, -2.9500483e-02,  4.1329965e-02],\n",
      "       [ 1.5746625e-02, -2.4634020e-02, -2.4179602e-02, ...,\n",
      "         1.6309937e-02,  1.0962348e-02, -3.4185573e-02]], dtype=float32)>]\n",
      "\n",
      "CPU times: user 36.2 s, sys: 301 ms, total: 36.5 s\n",
      "Wall time: 36.2 s\n",
      "AFTER FINETUNING\n",
      "[<tf.Variable 'QA/Final/Response_tuning/ResidualHidden_1/AdjustDepth/projection/kernel:0' shape=(1024, 512) dtype=float32, numpy=\n",
      "array([[ 1.7126808e+00, -9.4091808e-03, -8.9116685e-02, ...,\n",
      "         3.5325810e-02, -5.5978131e-02,  2.5482415e-03],\n",
      "       [-1.6638305e-02,  1.5305541e+00,  2.7213395e-02, ...,\n",
      "         3.6914686e-03,  1.4721945e-02, -8.9991027e-03],\n",
      "       [-4.8525833e-02,  4.9893256e-02,  1.6923290e+00, ...,\n",
      "        -3.8003378e-02, -3.6324788e-02,  5.0438859e-05],\n",
      "       ...,\n",
      "       [-3.3639586e-03,  1.0171405e-02,  9.7289784e-03, ...,\n",
      "         5.1401224e-02,  4.3482143e-03, -2.3773579e-02],\n",
      "       [ 2.7230211e-02, -5.5103160e-02, -1.6440054e-02, ...,\n",
      "        -7.8965034e-03, -2.8535226e-02,  4.0485241e-02],\n",
      "       [ 1.6693756e-02, -2.3678731e-02, -2.5048146e-02, ...,\n",
      "         1.7109701e-02,  1.1943885e-02, -3.3459641e-02]], dtype=float32)>]\n",
      "BEFORE FINETUNING\n",
      "[<tf.Variable 'QA/Final/Response_tuning/ResidualHidden_1/AdjustDepth/projection/kernel:0' shape=(1024, 512) dtype=float32, numpy=\n",
      "array([[ 1.7126808e+00, -9.4091808e-03, -8.9116685e-02, ...,\n",
      "         3.5325810e-02, -5.5978131e-02,  2.5482415e-03],\n",
      "       [-1.6638305e-02,  1.5305541e+00,  2.7213395e-02, ...,\n",
      "         3.6914686e-03,  1.4721945e-02, -8.9991027e-03],\n",
      "       [-4.8525833e-02,  4.9893256e-02,  1.6923290e+00, ...,\n",
      "        -3.8003378e-02, -3.6324788e-02,  5.0438859e-05],\n",
      "       ...,\n",
      "       [-3.3639586e-03,  1.0171405e-02,  9.7289784e-03, ...,\n",
      "         5.1401224e-02,  4.3482143e-03, -2.3773579e-02],\n",
      "       [ 2.7230211e-02, -5.5103160e-02, -1.6440054e-02, ...,\n",
      "        -7.8965034e-03, -2.8535226e-02,  4.0485241e-02],\n",
      "       [ 1.6693756e-02, -2.3678731e-02, -2.5048146e-02, ...,\n",
      "         1.7109701e-02,  1.1943885e-02, -3.3459641e-02]], dtype=float32)>]\n",
      "\n",
      "CPU times: user 688 ms, sys: 24.7 ms, total: 713 ms\n",
      "Wall time: 464 ms\n",
      "AFTER FINETUNING\n",
      "[<tf.Variable 'QA/Final/Response_tuning/ResidualHidden_1/AdjustDepth/projection/kernel:0' shape=(1024, 512) dtype=float32, numpy=\n",
      "array([[ 1.71280837e+00, -1.01472000e-02, -8.91779140e-02, ...,\n",
      "         3.50690261e-02, -5.59460893e-02,  1.77898409e-03],\n",
      "       [-1.71948094e-02,  1.53076959e+00,  2.69938149e-02, ...,\n",
      "         4.42508655e-03,  1.48167694e-02, -9.44464467e-03],\n",
      "       [-4.84593883e-02,  4.98624071e-02,  1.69242334e+00, ...,\n",
      "        -3.78834754e-02, -3.64381969e-02,  1.00331707e-03],\n",
      "       ...,\n",
      "       [-3.39913485e-03,  1.01510212e-02,  9.64091439e-03, ...,\n",
      "         5.12563176e-02,  4.43744659e-03, -2.46481374e-02],\n",
      "       [ 2.71393843e-02, -5.50430939e-02, -1.65373981e-02, ...,\n",
      "        -7.99241383e-03, -2.83990167e-02,  3.96411158e-02],\n",
      "       [ 1.76245254e-02, -2.39511561e-02, -2.48762816e-02, ...,\n",
      "         1.64585728e-02,  1.19120665e-02, -3.36041674e-02]], dtype=float32)>]\n",
      "BEFORE FINETUNING\n",
      "[<tf.Variable 'QA/Final/Response_tuning/ResidualHidden_1/AdjustDepth/projection/kernel:0' shape=(1024, 512) dtype=float32, numpy=\n",
      "array([[ 1.71280837e+00, -1.01472000e-02, -8.91779140e-02, ...,\n",
      "         3.50690261e-02, -5.59460893e-02,  1.77898409e-03],\n",
      "       [-1.71948094e-02,  1.53076959e+00,  2.69938149e-02, ...,\n",
      "         4.42508655e-03,  1.48167694e-02, -9.44464467e-03],\n",
      "       [-4.84593883e-02,  4.98624071e-02,  1.69242334e+00, ...,\n",
      "        -3.78834754e-02, -3.64381969e-02,  1.00331707e-03],\n",
      "       ...,\n",
      "       [-3.39913485e-03,  1.01510212e-02,  9.64091439e-03, ...,\n",
      "         5.12563176e-02,  4.43744659e-03, -2.46481374e-02],\n",
      "       [ 2.71393843e-02, -5.50430939e-02, -1.65373981e-02, ...,\n",
      "        -7.99241383e-03, -2.83990167e-02,  3.96411158e-02],\n",
      "       [ 1.76245254e-02, -2.39511561e-02, -2.48762816e-02, ...,\n",
      "         1.64585728e-02,  1.19120665e-02, -3.36041674e-02]], dtype=float32)>]\n",
      "\n",
      "CPU times: user 660 ms, sys: 80.4 ms, total: 741 ms\n",
      "Wall time: 353 ms\n",
      "AFTER FINETUNING\n",
      "[<tf.Variable 'QA/Final/Response_tuning/ResidualHidden_1/AdjustDepth/projection/kernel:0' shape=(1024, 512) dtype=float32, numpy=\n",
      "array([[ 1.71289098e+00, -1.08061703e-02, -8.87132734e-02, ...,\n",
      "         3.44153158e-02, -5.53597473e-02,  2.27924995e-03],\n",
      "       [-1.66187156e-02,  1.53051031e+00,  2.63497084e-02, ...,\n",
      "         5.09608630e-03,  1.54568581e-02, -1.00987218e-02],\n",
      "       [-4.80633341e-02,  5.02077378e-02,  1.69191682e+00, ...,\n",
      "        -3.73559222e-02, -3.62518020e-02,  6.30886992e-04],\n",
      "       ...,\n",
      "       [-3.94433038e-03,  9.54685081e-03,  1.02396505e-02, ...,\n",
      "         5.06218635e-02,  4.25784197e-03, -2.41190176e-02],\n",
      "       [ 2.76053064e-02, -5.45818210e-02, -1.71676688e-02, ...,\n",
      "        -7.45090190e-03, -2.78338902e-02,  3.89053486e-02],\n",
      "       [ 1.77049283e-02, -2.38125902e-02, -2.42442414e-02, ...,\n",
      "         1.58281103e-02,  1.15879765e-02, -3.34909447e-02]], dtype=float32)>]\n"
     ]
    }
   ],
   "source": [
    "import sys\n",
    "sys.path.append('..')\n",
    "\n",
    "from src.model import GoldenRetriever\n",
    "print(\"timing init\")\n",
    "%time gr = GoldenRetriever(**{'learning_rate':0.001, 'beta_1':0.9, 'beta_2':0.999})\n",
    "print(\"\")\n",
    "\n",
    "\n",
    "gr.export(\"fine_tune\")\n",
    "gr.restore(\"fine_tune\")\n",
    "\n",
    "\"\"\"\n",
    "1. Cosine loss\n",
    "\"\"\"\n",
    "print(\"BEFORE FINETUNING\")\n",
    "print(gr.var_finetune)\n",
    "print(\"\")\n",
    "\n",
    "questions = [\"What is your age?\"]\n",
    "responses = [\"I am 20 years old.\", \"good morning\"]\n",
    "response_contexts = [\"I will be 21 next year.\", \"great day.\"]\n",
    "%time gr.finetune(questions, responses, response_contexts, label=[1,0], loss='cosine')\n",
    "\n",
    "print(\"AFTER FINETUNING\")\n",
    "print(gr.var_finetune)\n",
    "\n",
    "\n",
    "\"\"\"\n",
    "2. Contrastive loss\n",
    "\"\"\"\n",
    "print(\"BEFORE FINETUNING\")\n",
    "print(gr.var_finetune)\n",
    "print(\"\")\n",
    "\n",
    "questions = [\"What is your age?\"]\n",
    "responses = [\"I am 20 years old.\", \"good morning\"]\n",
    "response_contexts = [\"I will be 21 next year.\", \"great day.\"]\n",
    "%time gr.finetune(questions, responses, response_contexts, label=[1,0], loss='contrastive')\n",
    "\n",
    "print(\"AFTER FINETUNING\")\n",
    "print(gr.var_finetune)\n",
    "\n",
    "\n",
    "\"\"\"\n",
    "3. Triplet loss\n",
    "\"\"\"\n",
    "print(\"BEFORE FINETUNING\")\n",
    "print(gr.var_finetune)\n",
    "print(\"\")\n",
    "\n",
    "questions = [\"What is your age?\"]\n",
    "responses = [\"The top section of the spine is damaged.\"]\n",
    "response_contexts = [\"Call the nurse.\"]\n",
    "%time gr.finetune(questions, responses, response_contexts, neg_answer = [\"I will be 21 years old.\"], neg_answer_context = [\"Time is running out for the elderly and the young.\"], loss='triplet')\n",
    "\n",
    "print(\"AFTER FINETUNING\")\n",
    "print(gr.var_finetune)\n"
   ]
  },
  {
   "cell_type": "code",
   "execution_count": null,
   "metadata": {},
   "outputs": [],
   "source": []
  }
 ],
 "metadata": {
  "kernelspec": {
   "display_name": "Python 3",
   "language": "python",
   "name": "python3"
  },
  "language_info": {
   "codemirror_mode": {
    "name": "ipython",
    "version": 3
   },
   "file_extension": ".py",
   "mimetype": "text/x-python",
   "name": "python",
   "nbconvert_exporter": "python",
   "pygments_lexer": "ipython3",
   "version": "3.6.9"
  }
 },
 "nbformat": 4,
 "nbformat_minor": 2
}
